{
 "cells": [
  {
   "cell_type": "markdown",
   "id": "acd3aec8",
   "metadata": {},
   "source": [
    "<div class=\"alert alert-success\">\n",
    "     <b>  </b>\n",
    "   \n",
    "## LAB REPORT Classification. Important Information:\n",
    "\n",
    "* This lab report must be completed **individually**.\n",
    "* Please upload your completed report to Atenea.\n",
    "* You have one week to complete and submit the report.\n",
    "</div>\n"
   ]
  },
  {
   "cell_type": "markdown",
   "id": "385df777",
   "metadata": {},
   "source": [
    "\n",
    "Dataset can be found in [Kaggle](#https://www.kaggle.com/datasets/alexteboul/diabetes-health-indicators-dataset) \n",
    "\n",
    "The target variable **Diabetes_binary** has 2 classes. \n",
    "* 0 is for no diabetes, \n",
    "* 1 is for prediabetes or diabetes. \n",
    "\n"
   ]
  },
  {
   "cell_type": "markdown",
   "id": "67ed72c8",
   "metadata": {},
   "source": [
    "### What represents each column?\n",
    "\n",
    "**(LABEL) Diabetes_binary:** Description: Indicates whether an individual has diabetes (1) or not (0). This is likely the target or outcome variable of the dataset.\n",
    "\n",
    "\n",
    "**HighBP:** Indicates if the person has high blood pressure (1) or not (0).\n",
    "\n",
    "\n",
    "**HighChol:** Indicates if the individual has high cholesterol levels (1) or not (0).\n",
    "\n",
    "**CholCheck:** Whether the individual has had their cholesterol checked (1) in the last 5 years or not (0).\n",
    "\n",
    "**BMI:** The individual’s Body Mass Index (BMI), a measure of body fat based on height and weight.\n",
    "\n",
    "**Smoker:** Indicates whether the individual is a smoker (1) or not (0).\n",
    "\n",
    "\n",
    "**Stroke:** Indicates if the individual has had a stroke (1) or not (0).\n",
    "\n",
    "\n",
    "**HeartDiseaseorAttack:** Whether the individual has had coronary heart disease or myocardial infarction (1) or not (0).\n",
    "\n",
    "**PhysActivity:** Indicates if the individual has engaged in physical activity or exercise in the last 30 days - not including job (1) or not (0).\n",
    "\n",
    "\n",
    "**Fruits:** Indicates whether the individual consumes 1 fruit or more daily (1) or not (0).\n",
    "\n",
    "\n",
    "**Veggies:** Indicates whether the individual consumes 1 vegetable or more daily (1) or not (0).\n",
    "\n",
    "**HeavyAlcoholCons:** Heavy drinkers (adult men having more than 14 drinks per week and adult women having more than 7 drinks per week) (1) or not (0)\n",
    "\n",
    "**AnyHealthcare:** Indicates whether the person has access to any form of healthcare coverage (1) or not (0).\n",
    "\n",
    "**NoDocbcCost:** Whether the person could not visit a doctor in the past year due to cost (1) or not (0).\n",
    "\n",
    "**GenHlth:** Self-reported general health status, where lower values (1) indicate better health (e.g., excellent) and higher values (5) indicate worse health (e.g., poor).\n",
    "\n",
    "**MentHlth:** Number of days in the past 30 days that the individual experienced poor mental health (stress, depression, and problems with emotions).\n",
    "\n",
    "**PhysHlth:** Number of days in the past 30 days that the individual experienced poor physical health (physical illness and injury).\n",
    "\n",
    "**DiffWalk:** Indicates whether the individual has difficulty walking or climbing stairs (1) or not (0).\n",
    "\n",
    "\n",
    "**Sex:** Gender of the individual, 0 = female; 1 = male.\n",
    "\n",
    "**Age:** Represents age group categories. 13-level age category. \n",
    "* 1: 18-24 years old\n",
    "* 2: 25-29 years old\n",
    "* ...\n",
    "* 13: 80 years or older\n",
    "\n",
    "**Education:** Represents the highest level of education attained. \n",
    "* 1: Never attended school\n",
    "* 2: Elementary school\n",
    "* ...\n",
    "* 6: College graduate.\n",
    "\n",
    "**Income:** Represents income categories. Scale 1-8\n",
    "\n",
    "* 1: Less than 10 000 \n",
    "* 2: 10 000 to 14 999\n",
    "* ...\n",
    "* 8: 75 000 or more."
   ]
  },
  {
   "cell_type": "markdown",
   "id": "c45e951b",
   "metadata": {},
   "source": [
    "# Import libraries"
   ]
  },
  {
   "cell_type": "code",
   "execution_count": 3,
   "id": "524ba021",
   "metadata": {},
   "outputs": [],
   "source": [
    "import pandas as pd\n",
    "import matplotlib.pyplot as plt\n",
    "import seaborn as sns\n",
    "from sklearn.utils import resample"
   ]
  },
  {
   "cell_type": "markdown",
   "id": "23d25fa8",
   "metadata": {},
   "source": [
    "# Load dataset"
   ]
  },
  {
   "cell_type": "code",
   "execution_count": 4,
   "id": "9d158dc7",
   "metadata": {},
   "outputs": [],
   "source": [
    "link = 'https://raw.githubusercontent.com/sbarja/course2425_datascience4energysystems/refs/heads/main/Data/S4_diabetes_desequilibrio_clases.csv'\n",
    "\n",
    "dataset = pd.read_csv(link)"
   ]
  },
  {
   "cell_type": "markdown",
   "id": "cce0e5e6",
   "metadata": {},
   "source": [
    "# **1. Understanding the data**\n",
    "\n",
    "It is necessary to visualize and understand the data we are going to work with, as well as to know its characteristics. \n",
    "\n",
    "* How much data is there? How many attributes are there in the data?  \n",
    "* Is there any missing data? \n",
    "* Are the labels balanced? \n",
    "* Statistical summary of the input data set (Statistics Table)\n",
    "* If String/Object data, transform this data into numerical values\n",
    "* Other methods to understand the data (if needed)"
   ]
  },
  {
   "cell_type": "code",
   "execution_count": null,
   "id": "7f8da46b",
   "metadata": {},
   "outputs": [],
   "source": [
    "print(dataset.shape)\n",
    "dataset.head(3)"
   ]
  },
  {
   "cell_type": "code",
   "execution_count": 5,
   "id": "686799f8",
   "metadata": {},
   "outputs": [
    {
     "data": {
      "text/plain": [
       "Diabetes_binary         0\n",
       "HighBP                  0\n",
       "HighChol                0\n",
       "CholCheck               0\n",
       "BMI                     0\n",
       "Smoker                  0\n",
       "Stroke                  0\n",
       "HeartDiseaseorAttack    0\n",
       "PhysActivity            0\n",
       "Fruits                  0\n",
       "Veggies                 0\n",
       "HvyAlcoholConsump       0\n",
       "AnyHealthcare           0\n",
       "NoDocbcCost             0\n",
       "GenHlth                 0\n",
       "MentHlth                0\n",
       "PhysHlth                0\n",
       "DiffWalk                0\n",
       "Sex                     0\n",
       "Age                     0\n",
       "Education               0\n",
       "Income                  0\n",
       "dtype: int64"
      ]
     },
     "execution_count": 5,
     "metadata": {},
     "output_type": "execute_result"
    }
   ],
   "source": [
    "dataset.isna().sum()"
   ]
  },
  {
   "cell_type": "code",
   "execution_count": null,
   "id": "257de1ad",
   "metadata": {},
   "outputs": [],
   "source": [
    "for columna in dataset.columns:\n",
    "    plt.figure(figsize=(12, 6))\n",
    "    \n",
    "    value_counts = dataset[columna].value_counts().sort_index(ascending=True)\n",
    "    value_counts.plot(kind='bar')\n",
    "\n",
    "    plt.title(f'Value counts for {columna}')\n",
    "    plt.xlabel('Values', fontsize=6)\n",
    "    plt.ylabel('Counts', fontsize=10)\n",
    "    \n",
    "    plt.show()"
   ]
  },
  {
   "cell_type": "code",
   "execution_count": null,
   "id": "96e29c15",
   "metadata": {},
   "outputs": [],
   "source": [
    "dataset.describe()"
   ]
  },
  {
   "cell_type": "code",
   "execution_count": null,
   "id": "bab2cf62",
   "metadata": {},
   "outputs": [],
   "source": [
    "for columna in dataset.columns:\n",
    "    dataset[columna].astype('int64')\n",
    "\n",
    "print(dataset.dtypes)"
   ]
  },
  {
   "cell_type": "markdown",
   "id": "4ac645f4",
   "metadata": {},
   "source": [
    "# **2. Visualize the data**.\n",
    "\n",
    "A visual way to understand the input data. \n",
    "* Histogram\n",
    "* Density curve\n",
    "* Boxplots\n",
    "* Scatter plots\n",
    "* Correlation matrix\n",
    "* Other visualization methods, if needed."
   ]
  },
  {
   "cell_type": "code",
   "execution_count": null,
   "id": "96e32cbc",
   "metadata": {},
   "outputs": [],
   "source": [
    "#Histogram\n",
    "dataset.hist(figsize=(15, 10), bins=20, grid=False)\n",
    "plt.tight_layout()\n",
    "plt.show()"
   ]
  },
  {
   "cell_type": "code",
   "execution_count": null,
   "id": "565d6b82",
   "metadata": {},
   "outputs": [],
   "source": [
    "#Density \n",
    "for columnas in dataset.columns:\n",
    "    plt.figure(figsize=(12, 6))\n",
    "\n",
    "    dataset[columnas].plot(kind='density')\n",
    "    \n",
    "    plt.title(f'densityplot for {columna}')\n",
    "    plt.xlabel('Values', fontsize=6)\n",
    "    plt.ylabel('Counts', fontsize=10)\n",
    "    plt.show()      \n"
   ]
  },
  {
   "cell_type": "code",
   "execution_count": 6,
   "id": "90565af0",
   "metadata": {},
   "outputs": [
    {
     "data": {
      "image/png": "[encoded data removed]",
      "text/plain": [
       "<Figure size 1500x1000 with 1 Axes>"
      ]
     },
     "metadata": {},
     "output_type": "display_data"
    }
   ],
   "source": [
    "#Boxplot\n",
    "plt.subplots(figsize=(15, 10))\n",
    "dataset.boxplot(fontsize=8)\n",
    "plt.xticks(rotation=90)\n",
    "plt.xlabel('Values')\n",
    "plt.yscale('log')\n",
    "plt.tight_layout()\n",
    "plt.show()\n"
   ]
  },
  {
   "cell_type": "code",
   "execution_count": null,
   "id": "e1f55378",
   "metadata": {},
   "outputs": [],
   "source": [
    "#Scaterplot\n",
    "sns.relplot(x= 'Age', y= 'BMI', data= dataset, hue='Sex',style='Smoker')\n"
   ]
  },
  {
   "cell_type": "code",
   "execution_count": null,
   "id": "5b9da7bb",
   "metadata": {},
   "outputs": [],
   "source": [
    "#Correlation\n",
    "plt.figure(figsize=(18, 10))\n",
    "sns.heatmap(dataset.corr(), cmap=\"coolwarm\")"
   ]
  },
  {
   "cell_type": "markdown",
   "id": "32002f61",
   "metadata": {},
   "source": [
    "# 3. **Prepare the data.**\n",
    "\n",
    "* Take care of missing data (if you have not done this already)\n",
    "* Data cleaning (remove outliers, if necessary).\n",
    "* Feature engineering (create new features/ delete non relevant ones/ etc. Iterative process)\n"
   ]
  },
  {
   "cell_type": "code",
   "execution_count": null,
   "id": "d19465cd",
   "metadata": {},
   "outputs": [],
   "source": [
    "#DropNA\n",
    "dataset.dropna(inplace=True)"
   ]
  },
  {
   "cell_type": "code",
   "execution_count": null,
   "id": "acbd9836",
   "metadata": {},
   "outputs": [],
   "source": [
    "#Remove outliers\n",
    "\n",
    "#IQR method\n",
    "def remove_outliers_iqr(column):\n",
    "    Q1 = column.quantile(0.25)\n",
    "    Q3 = column.quantile(0.75)\n",
    "    IQR = Q3 - Q1\n",
    "    \n",
    "    lower_bound = Q1 - 1.5 * IQR\n",
    "    upper_bound = Q3 + 1.5 * IQR\n",
    "    \n",
    "    return column.where((column >= lower_bound) & (column <= upper_bound))\n",
    "\n",
    "\n",
    "#dataset['noliersBMI'] = remove_outliers_iqr(dataset['BMI'])"
   ]
  },
  {
   "cell_type": "code",
   "execution_count": null,
   "id": "79523aed",
   "metadata": {},
   "outputs": [],
   "source": [
    "dataset.columns"
   ]
  },
  {
   "cell_type": "code",
   "execution_count": null,
   "id": "32e6d7b8",
   "metadata": {},
   "outputs": [],
   "source": [
    "#Random Oversampling\n",
    "no_diabetes_majority_class = dataset[dataset[\"Diabetes_binary\"] == 0]\n",
    "diabetes_minority_class = dataset[dataset[\"Diabetes_binary\"] == 1]\n",
    "#upsample minority\n",
    "diabetes_minority_class_upsampled = resample(diabetes_minority_class,\n",
    "                          replace=True, # This has to be set True when upsampling\n",
    "                          n_samples=len(no_diabetes_majority_class), # match number in majority class\n",
    "                          random_state=27) # reproducible results\n",
    "\n",
    "# combine majority and upsampled minority\n",
    "data_randomOverSampling = pd.concat([no_diabetes_majority_class, diabetes_minority_class_upsampled])\n",
    "\n",
    "\n",
    "#Plotting\n",
    "x = data_randomOverSampling['Diabetes_binary'].value_counts().values\n",
    "labels = data_randomOverSampling['Diabetes_binary'].value_counts().index\n",
    "\n",
    "# Define a color palette\n",
    "palette = sns.color_palette(\"Blues_r\", len(labels))\n",
    "\n",
    "# Create the barplot \n",
    "plt.figure(figsize=(8, 6))\n",
    "sns.barplot(x=labels, y=x, palette=palette)\n",
    "\n",
    "# Add titles and labels with font customizations\n",
    "plt.title('Frequency Table of the Label: Upsampled (Random Oversampling)', fontsize=16, fontweight='bold', color='navy')\n",
    "plt.xlabel('Binary', fontsize=12)\n",
    "plt.ylabel('Frequency', fontsize=12)\n",
    "\n",
    "# Add value annotations on top of the bars\n",
    "for i in range(len(x)):\n",
    "    plt.text(i, x[i] + 200, str(x[i]), ha='center', fontsize=10, color='black')\n",
    "\n",
    "# Customize grid and aesthetics\n",
    "sns.despine(top=True, right=True, left=False, bottom=False)\n",
    "plt.grid(axis='y', linestyle='--', alpha=0.7)\n",
    "\n",
    "# Show the plot\n",
    "plt.tight_layout()\n",
    "plt.show()\n",
    "\n",
    "print('Total number of labels: ', x)"
   ]
  },
  {
   "cell_type": "code",
   "execution_count": null,
   "id": "99fbc84a",
   "metadata": {},
   "outputs": [],
   "source": [
    "#grupby age sex diabetes\n",
    "grouped_data = dataset.groupby(['Age', 'Sex'])['Diabetes_binary'].sum().reset_index()\n",
    "\n",
    "# Crear el gráfico de barras\n",
    "plt.figure(figsize=(12, 8))\n",
    "sns.barplot(x='Age', y='Diabetes_binary', hue='Sex', data=grouped_data, ci=None)\n",
    "\n",
    "plt.title('Casos de Diabetes por Edad y Sexo')\n",
    "plt.xlabel('Edad')\n",
    "plt.ylabel('Suma de Diabetes')\n",
    "\n",
    "plt.show()\n"
   ]
  },
  {
   "cell_type": "markdown",
   "id": "31855656",
   "metadata": {},
   "source": [
    "# 4. Divide data into ``train/ test`` or ``train/validation/test`` datasets\n",
    "\n",
    "* Transformation (scale your data, if needed). "
   ]
  },
  {
   "cell_type": "code",
   "execution_count": null,
   "id": "bad99f4e",
   "metadata": {},
   "outputs": [],
   "source": [
    "# Train/validation/test split\n",
    "from sklearn.model_selection import train_test_split\n",
    "\n",
    "# Eliminar valores nulos\n",
    "dataset.dropna(inplace=True)\n",
    "\n",
    "# Separar características (X) y la variable objetivo (y)\n",
    "X = dataset.drop(['Diabetes_binary'], axis=1)  # Todas las características\n",
    "y = dataset['Diabetes_binary']  # Solo la columna objetivo\n",
    "\n",
    "test_size = 0.2  \n",
    "validation_size = 0.2 \n",
    "random_state = 10 \n",
    "\n",
    "#entrenamiento+validación y prueba\n",
    "X_train_val, X_test, y_train_val, y_test = train_test_split(\n",
    "    X, y, test_size=test_size, random_state=random_state, shuffle=True\n",
    ")\n",
    "#entrenamiento y validación\n",
    "X_train, X_val, y_train, y_val = train_test_split(\n",
    "    X_train_val, y_train_val, test_size=validation_size, random_state=random_state, shuffle=True\n",
    ")\n",
    "\n"
   ]
  },
  {
   "cell_type": "markdown",
   "id": "8f03e44f",
   "metadata": {},
   "source": [
    "# 5. Models building and comparison\n",
    "\n",
    "* Select the correct evaluation metric or metrics (https://scikit-learn.org/stable/modules/model_evaluation.html)\n",
    "* Remember to always use the same random_state to be able to repeat results."
   ]
  },
  {
   "cell_type": "code",
   "execution_count": null,
   "id": "2439fd64",
   "metadata": {},
   "outputs": [],
   "source": [
    "#Models\n",
    "\n",
    "#Logistic regresion\n",
    "import warnings\n",
    "warnings.filterwarnings(\"ignore\")\n",
    "    from sklearn.linear_model import LogisticRegression\n",
    "    from sklearn.metrics import accuracy_score\n",
    "\n",
    "log_reg = LogisticRegression(random_state=42)\n",
    "log_reg.fit(X_train, y_train)\n",
    "\n",
    "y_pred_logreg = log_reg.predict(X_test)\n",
    "acc_lg =  accuracy_score(y_test, y_pred_logreg)\n",
    "\n",
    "# Evaluation\n",
    "print(\"Logistic Regression Accuracy: \", acc_lg)\n",
    "\n",
    "\n",
    "\n",
    "#SVM\n",
    "from sklearn.svm import SVC\n",
    "\n",
    "# SVC\n",
    "svc = SVC(kernel = 'linear', random_state=42, shrinking =True, verbose=True, tol=0.1, max_iter=100)\n",
    "svc.fit(X_train, y_train)\n",
    "\n",
    "# Predictions\n",
    "y_pred_svc = svc.predict(X_test)\n",
    "acc_svc = accuracy_score(y_test, y_pred_svc)\n",
    "# Evaluation\n",
    "print(\"SVC Accuracy: \", acc_svc)\n",
    "\n",
    "\n",
    "\n",
    "\n",
    "#KNN\n",
    "from sklearn.neighbors import KNeighborsClassifier\n",
    "\n",
    "# Convert X_train and X_test to NumPy arrays\n",
    "X_train_np = X_train.to_numpy()\n",
    "X_test_np = X_test.to_numpy()\n",
    "\n",
    "# KNN\n",
    "knn = KNeighborsClassifier(n_neighbors=7)\n",
    "knn.fit(X_train_np, y_train)\n",
    "\n",
    "# Predictions\n",
    "y_pred_knn = knn.predict(X_test_np)\n",
    "\n",
    "acc_knn = accuracy_score(y_test, y_pred_knn)\n",
    "\n",
    "# Evaluation\n",
    "print(\"KNN Accuracy: \", acc_knn)\n",
    "\n",
    "\n",
    "\n",
    "\n",
    "#Decision Tree & Random Forest\n",
    "from sklearn.tree import DecisionTreeClassifier\n",
    "\n",
    "# Decision Tree\n",
    "decision_tree = DecisionTreeClassifier(random_state=42)\n",
    "decision_tree.fit(X_train, y_train)\n",
    "\n",
    "# Predictions\n",
    "y_pred_tree = decision_tree.predict(X_test)\n",
    "acc_dt = accuracy_score(y_test, y_pred_tree)\n",
    "# Evaluation\n",
    "print(\"Decision Tree Accuracy: \", acc_dt)\n",
    "\n",
    "#Random Forest\n",
    "from sklearn.ensemble import RandomForestClassifier\n",
    "\n",
    "# Random Forest\n",
    "random_forest = RandomForestClassifier(random_state=42)\n",
    "random_forest.fit(X_train, y_train)\n",
    "\n",
    "# Predictions\n",
    "y_pred_forest = random_forest.predict(X_test)\n",
    "acc_rf = accuracy_score(y_test, y_pred_forest)\n",
    "# Evaluation\n",
    "print(\"Random Forest Accuracy: \", acc_rf)"
   ]
  },
  {
   "cell_type": "code",
   "execution_count": null,
   "id": "ee15239c",
   "metadata": {},
   "outputs": [],
   "source": [
    "# Create a DataFrame with the results\n",
    "accuracy_data = {\n",
    "    \"Model\": [\"LogisticRegresion\", \"KNN\", \"Decision Tree\", \"Random Forest\", \"SVM\"],\n",
    "    \"Accuracy\": [acc_lg, acc_knn, acc_dt, acc_rf, acc_svc]\n",
    "}\n",
    "\n",
    "accuracy_df = pd.DataFrame(accuracy_data)  # Seaborn library expects a dataframe as input\n",
    "accuracy_df = accuracy_df.sort_values(by=\"Accuracy\", ascending=False)\n",
    "\n",
    "# Plotting using Seaborn\n",
    "plt.figure(figsize=(10, 6))\n",
    "sns.barplot(x=\"Model\", y=\"Accuracy\", data=accuracy_df, palette=\"Blues_d\")\n",
    "plt.title('Accuracy Comparison of Different Classification Models')\n",
    "plt.xlabel('Classification Models')\n",
    "plt.ylabel('Accuracy')\n",
    "plt.ylim(0, 1)  # Ensure the y-axis goes from 0 to 1 for better visualization\n",
    "plt.show()"
   ]
  },
  {
   "cell_type": "markdown",
   "id": "8d0cb167",
   "metadata": {},
   "source": [
    "* Which model(s) obtains better result(s)?\n"
   ]
  },
  {
   "cell_type": "code",
   "execution_count": null,
   "id": "04a8c136",
   "metadata": {},
   "outputs": [],
   "source": [
    "#Cros validation all models\n",
    "from sklearn.linear_model import LogisticRegression\n",
    "from sklearn.ensemble import RandomForestClassifier\n",
    "\n",
    "num_folds = 50 #aixo es el tema de cros validation\n",
    "error_metrics = {'balanced_accuracy'}\n",
    "models = {('LR', LogisticRegression()),\n",
    "            ('SVM', SVC()),\n",
    "            ('KNN', KNeighborsClassifier()),\n",
    "            ('DT', DecisionTreeClassifier()),\n",
    "            ('RF', RandomForestClassifier())}\n",
    "\n",
    "results = [] # stores the results of the evaluation metrics\n",
    "names = [] # name of each algorithm\n",
    "msg = [] # print the summary of the cross-validation method\n",
    "\n",
    "from sklearn.model_selection import cross_val_score, GridSearchCV\n",
    "from sklearn.model_selection import StratifiedShuffleSplit\n",
    "\n",
    "# Entreno con validación cruzada\n",
    "for scoring in error_metrics:\n",
    "    print('Classification evaluation metric: ', scoring)\n",
    "    for name, model in models:\n",
    "        print('Model ', name)\n",
    "        cross_validation = StratifiedShuffleSplit(n_splits=num_folds, random_state=0)\n",
    "        cv_results = cross_val_score(model, X_train, y_train, cv=cross_validation, scoring=scoring)\n",
    "        results.append(cv_results)\n",
    "        names.append(name)\n",
    "        resume = (name, cv_results.mean(), cv_results.std())\n",
    "        msg.append(resume)\n",
    "    print(msg)\n",
    "\n",
    "    # Comparar resultados entre algoritmos\n",
    "    fig = plt.figure()\n",
    "    fig.suptitle('Comparison of algorithms with evaluation metrics: %s' %scoring)\n",
    "    ax = fig.add_subplot(111)\n",
    "    ax.set_xlabel('Candidate models')\n",
    "    ax.set_ylabel('%s' %scoring)\n",
    "    plt.boxplot(results)\n",
    "    ax.set_xticklabels(names)\n",
    "    plt.show()\n",
    "\n",
    "    results = []"
   ]
  },
  {
   "cell_type": "markdown",
   "id": "d6a235fb",
   "metadata": {},
   "source": [
    "# 6. Adjust hyperparameters.\n",
    "\n",
    "Steps to perform the hyperadjustment of the parameters in the best model or models selected from step 5):\n",
    "\n",
    "* Select the Evaluation Metrics\n",
    "* Define search hyperparameter ranges: model params\n"
   ]
  },
  {
   "cell_type": "code",
   "execution_count": null,
   "id": "959a38ed",
   "metadata": {},
   "outputs": [],
   "source": [
    "from sklearn.linear_model import LogisticRegression\n",
    "from sklearn.model_selection import GridSearchCV, KFold\n",
    "from sklearn.metrics import make_scorer, accuracy_score\n",
    "\n",
    "# Modelo base\n",
    "model = LogisticRegression(max_iter=1000)\n",
    "\n",
    "# Definir el espacio de parámetros para GridSearchCV\n",
    "grid_space = {\n",
    "    'penalty': ['l1', 'l2', 'elasticnet', None],  # Tipos de regularización\n",
    "    'C': [0.1, 1, 10, 100],  # Inverso de la fuerza de regularización\n",
    "    'solver': ['lbfgs', 'liblinear', 'saga'],  # Solvers disponibles\n",
    "    'fit_intercept': [True, False],  # Ajustar o no la intersección\n",
    "}\n",
    "\n",
    "# Métrica de evaluación personalizada\n",
    "scoring = make_scorer(accuracy_score)\n",
    "\n",
    "# Validación cruzada\n",
    "cv = KFold(n_splits=5, random_state=0, shuffle=True)\n",
    "\n",
    "# Configurar y ejecutar GridSearchCV\n",
    "gsearch = GridSearchCV(estimator=model, param_grid=grid_space, scoring=scoring, cv=cv)\n",
    "gsearch.fit(X_train, y_train)\n",
    "\n",
    "# Resultados\n",
    "print(\"Best results: %f using the following hyperparameters %s\" % (gsearch.best_score_, gsearch.best_params_))\n",
    "means = gsearch.cv_results_['mean_test_score']\n",
    "stds = gsearch.cv_results_['std_test_score']\n",
    "params = gsearch.cv_results_['params']\n",
    "\n",
    "# Imprimir todos los resultados\n",
    "for mean, std, param in zip(means, stds, params):\n",
    "    print(\"Mean Accuracy: %f (std: %f) with: %r\" % (mean, std, param))\n"
   ]
  },
  {
   "cell_type": "code",
   "execution_count": null,
   "id": "6743ecf7",
   "metadata": {},
   "outputs": [],
   "source": []
  },
  {
   "cell_type": "code",
   "execution_count": null,
   "id": "baad34f6",
   "metadata": {},
   "outputs": [],
   "source": []
  },
  {
   "cell_type": "code",
   "execution_count": null,
   "id": "2d306325",
   "metadata": {},
   "outputs": [],
   "source": []
  },
  {
   "cell_type": "code",
   "execution_count": null,
   "id": "284c8973",
   "metadata": {},
   "outputs": [],
   "source": []
  },
  {
   "cell_type": "markdown",
   "id": "38fe79cb",
   "metadata": {},
   "source": [
    "# **7. Final evaluation of the model**\n",
    "\n",
    "Train the model with the optimal hyperparameters found in the previous section and make the predictions.\n",
    "\n"
   ]
  },
  {
   "cell_type": "code",
   "execution_count": null,
   "id": "c2853f8e",
   "metadata": {},
   "outputs": [],
   "source": [
    "from sklearn.linear_model import LogisticRegression\n",
    "from sklearn.metrics import accuracy_score\n",
    "from sklearn.metrics import confusion_matrix, classification_report\n",
    "\n",
    "# Crear y configurar el modelo de regresión logística\n",
    "clf_model = LogisticRegression(\n",
    "    solver='lbfgs',  # Optimizador (puedes cambiar a 'saga' o 'liblinear' según los datos)\n",
    "    max_iter=1000,   # Número máximo de iteraciones\n",
    "    random_state=42  # Semilla para reproducibilidad\n",
    ")\n",
    "\n",
    "# Entrenar el modelo\n",
    "clf_model.fit(X_train, y_train)\n",
    "\n",
    "# Realizar predicciones en el conjunto de prueba\n",
    "y_predict = clf_model.predict(X_test)\n",
    "\n",
    "# Calcular la precisión del modelo\n",
    "accuracy = accuracy_score(y_test, y_predict)\n",
    "print(f\"Accuracy del modelo de regresión logística: {accuracy:.2f}\")\n",
    "\n",
    "# Opcional: Mostrar coeficientes\n",
    "coefficients = clf_model.coef_\n",
    "intercept = clf_model.intercept_\n",
    "print(\"Coeficientes del modelo:\", coefficients)\n",
    "print(\"Intercepto del modelo:\", intercept)\n",
    "\n",
    "\n",
    "confusion_matrix = confusion_matrix(y_test, y_predict)\n",
    "print(classification_report(y_test, y_predict))\n",
    "print(confusion_matrix)\n"
   ]
  },
  {
   "cell_type": "code",
   "execution_count": null,
   "id": "d9645068",
   "metadata": {},
   "outputs": [],
   "source": []
  },
  {
   "cell_type": "code",
   "execution_count": null,
   "id": "4536752f",
   "metadata": {},
   "outputs": [],
   "source": []
  },
  {
   "cell_type": "code",
   "execution_count": null,
   "id": "90987ac9",
   "metadata": {},
   "outputs": [],
   "source": []
  },
  {
   "cell_type": "markdown",
   "id": "533dd286",
   "metadata": {},
   "source": [
    "#### Model results conclusions"
   ]
  },
  {
   "cell_type": "code",
   "execution_count": null,
   "id": "262c2515",
   "metadata": {},
   "outputs": [],
   "source": [
    "\n",
    "\n",
    "\n",
    "\n",
    "\n",
    "\n",
    "\n"
   ]
  },
  {
   "cell_type": "markdown",
   "id": "0c5a8c81",
   "metadata": {},
   "source": [
    "# Where the results satisfactory? Repeat the steps if necessary for improving the model\n",
    "\n",
    "* Retrain the model again trying different approaches: balacing the minority class, adding new input parameters, deleting non relevant input features, trying setting up different hyperparams, etc. \n",
    "* Copy and paste below the steps you wish to repeat and run the code from this point onwards (do not delete the code above)."
   ]
  },
  {
   "cell_type": "code",
   "execution_count": null,
   "id": "0f5ebb19",
   "metadata": {},
   "outputs": [],
   "source": []
  },
  {
   "cell_type": "code",
   "execution_count": null,
   "id": "4b0b5fc5",
   "metadata": {},
   "outputs": [],
   "source": []
  },
  {
   "cell_type": "code",
   "execution_count": null,
   "id": "108a2b63",
   "metadata": {},
   "outputs": [],
   "source": []
  },
  {
   "cell_type": "code",
   "execution_count": null,
   "id": "f79649ca",
   "metadata": {},
   "outputs": [],
   "source": []
  },
  {
   "cell_type": "code",
   "execution_count": null,
   "id": "3a4402be",
   "metadata": {},
   "outputs": [],
   "source": []
  },
  {
   "cell_type": "code",
   "execution_count": null,
   "id": "d5a4ec8f",
   "metadata": {},
   "outputs": [],
   "source": []
  },
  {
   "cell_type": "code",
   "execution_count": null,
   "id": "f0987c54",
   "metadata": {},
   "outputs": [],
   "source": []
  }
 ],
 "metadata": {
  "kernelspec": {
   "display_name": "Python 3",
   "language": "python",
   "name": "python3"
  },
  "language_info": {
   "codemirror_mode": {
    "name": "ipython",
    "version": 3
   },
   "file_extension": ".py",
   "mimetype": "text/x-python",
   "name": "python",
   "nbconvert_exporter": "python",
   "pygments_lexer": "ipython3",
   "version": "3.11.9"
  }
 },
 "nbformat": 4,
 "nbformat_minor": 5
}
